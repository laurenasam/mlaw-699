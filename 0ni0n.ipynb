{
 "cells": [
  {
   "cell_type": "code",
   "execution_count": 1,
   "metadata": {},
   "outputs": [
    {
     "name": "stdout",
     "output_type": "stream",
     "text": [
      "          Case Number                                       Link to H-2A  \\\n",
      "0  H-300-21280-631097  https://seasonaljobs.dol.gov/api/job-order/H-3...   \n",
      "1  H-300-21202-474481  https://seasonaljobs.dol.gov/api/job-order/H-3...   \n",
      "2  H-300-21195-461870  https://seasonaljobs.dol.gov/api/job-order/H-3...   \n",
      "3  H-300-21183-441615  https://seasonaljobs.dol.gov/api/job-order/H-3...   \n",
      "4  H-300-20255-817429  https://seasonaljobs.dol.gov/api/job-order/H-3...   \n",
      "\n",
      "  Hit or No Hit Market Farm Narratives  \\\n",
      "0        No Hit    NaN  NaN        NaN   \n",
      "1        No Hit    NaN  NaN        NaN   \n",
      "2        No Hit    NaN  NaN        NaN   \n",
      "3        No Hit    NaN  NaN        NaN   \n",
      "4        No Hit    NaN  NaN        NaN   \n",
      "\n",
      "  Facebook. Google Reviews, Website, LinkedIn, Google Maps, Instagram, etc.???  \\\n",
      "0                                                NaN                             \n",
      "1                                                NaN                             \n",
      "2                                                NaN                             \n",
      "3                                                NaN                             \n",
      "4                                                NaN                             \n",
      "\n",
      "   Certainty    year      Recruiter Hits - By name or by logo Person  \n",
      "0        NaN  2022.0  D Mendoza - 1                       NaN    NaN  \n",
      "1        NaN  2021.0  D Mendoza - 1                       NaN    NaN  \n",
      "2        NaN  2021.0  D Mendoza - 1                       NaN    NaN  \n",
      "3        NaN  2021.0  D Mendoza - 1                       NaN    NaN  \n",
      "4        NaN  2021.0  D Mendoza - 1                       NaN    NaN  \n"
     ]
    }
   ],
   "source": [
    "import pandas as pd\n",
    "import numpy as np\n",
    "\n",
    "# Load the data from csv\n",
    "data = pd.read_csv('Master Document of H-2A Orders - Hit or Not - Previous Semester H-2A Orders Successes.csv')\n",
    "\n",
    "# print the first 5 rows of the data\n",
    "print(data.head())\n"
   ]
  },
  {
   "cell_type": "code",
   "execution_count": 2,
   "metadata": {},
   "outputs": [
    {
     "name": "stdout",
     "output_type": "stream",
     "text": [
      "           Case Number                                       Link to H-2A  \\\n",
      "13  H-300-21029-042637  https://seasonaljobs.dol.gov/api/job-order/H-3...   \n",
      "35  H-300-20013-248635  https://seasonaljobs.dol.gov/api/job-order/H-3...   \n",
      "38  H-300-20002-228933  https://seasonaljobs.dol.gov/api/job-order/H-3...   \n",
      "44  H-300-19044-646927  https://seasonaljobs.dol.gov/jobs/H-300-19044-...   \n",
      "48  H-300-19114-230380  https://seasonaljobs.dol.gov/jobs/H-300-19114-...   \n",
      "\n",
      "   Hit or No Hit                                             Market  \\\n",
      "13           Hit                        Kroger, Walmart, Instacart    \n",
      "35           Hit  Naturipe Farms, 99 Cents Only Stores, Ahold, A...   \n",
      "38           Hit  Store Locator – sealtheseasons, Peoples-Food A...   \n",
      "44           Hit                             https://wishfarms.com/   \n",
      "48           Hit                                      Harris Teeter   \n",
      "\n",
      "                             Farm  \\\n",
      "13                  Haigler Farms   \n",
      "35         Down South Berries LLC   \n",
      "38                       L&S Farm   \n",
      "44  Major League Blueberries, LLC   \n",
      "48       Sleepy Creek Farms, Inc.   \n",
      "\n",
      "                                           Narratives  \\\n",
      "13  I googled the worksite address on the work ord...   \n",
      "35  H2A list > work order lists Down South Berries...   \n",
      "38  Googled: L&S Farm at 213 Pine Cone Road, Alma,...   \n",
      "44  H2A list > Job order on DOL site, listed busin...   \n",
      "48  H2A > job order work site address > googled an...   \n",
      "\n",
      "   Facebook. Google Reviews, Website, LinkedIn, Google Maps, Instagram, etc.???  \\\n",
      "13                                            Website                             \n",
      "35  website, but also relied on info gained over a...                             \n",
      "38                            Websites, including SoS                             \n",
      "44                                            Website                             \n",
      "48                                     Google reviews                             \n",
      "\n",
      "    Certainty    year      Recruiter Hits - By name or by logo Person  \n",
      "13        3.0  2021.0  D Mendoza - 1                      Both    Ben  \n",
      "35        1.0  2020.0  D Mendoza - 1                      Both    Ben  \n",
      "38        1.0  2020.0  D Mendoza - 1                      Both    Ben  \n",
      "44        3.0  2019.0  D Mendoza - 1                      Logo    Ben  \n",
      "48        2.0  2019.0  D Mendoza - 1                      Name    Ben  \n"
     ]
    }
   ],
   "source": [
    "# make a df of just rows with \"hit\"\n",
    "hit = data[data['Hit or No Hit'] == 'Hit']\n",
    "\n",
    "# print the first 5 rows of the hit data\n",
    "print(hit.head())"
   ]
  },
  {
   "cell_type": "code",
   "execution_count": 3,
   "metadata": {},
   "outputs": [],
   "source": [
    "# save the hit data to a new csv\n",
    "hit.to_csv('hit.csv', index=False)"
   ]
  }
 ],
 "metadata": {
  "kernelspec": {
   "display_name": "Python 3",
   "language": "python",
   "name": "python3"
  },
  "language_info": {
   "codemirror_mode": {
    "name": "ipython",
    "version": 3
   },
   "file_extension": ".py",
   "mimetype": "text/x-python",
   "name": "python",
   "nbconvert_exporter": "python",
   "pygments_lexer": "ipython3",
   "version": "3.11.5"
  },
  "orig_nbformat": 4
 },
 "nbformat": 4,
 "nbformat_minor": 2
}
